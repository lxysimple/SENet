{
 "cells": [
  {
   "cell_type": "markdown",
   "metadata": {},
   "source": [
    "# Squeeze-and-Excitation Networks \n",
    "# 导师：余老师"
   ]
  },
  {
   "cell_type": "markdown",
   "metadata": {},
   "source": [
    "# 1 前言\n",
    "## 1.1课程回顾\n",
    "<img src=\"./imgs/review1.jpg\"  width=\"700\" height=\"700\" align=\"bottom\" />"
   ]
  },
  {
   "cell_type": "markdown",
   "metadata": {},
   "source": [
    "### SE-ResNet architecture\n",
    "\n",
    "<img src=\"./imgs/se-resnet.png\"  width=\"800\" height=\"500\" align=\"bottom\" />\n",
    "\n"
   ]
  },
  {
   "cell_type": "markdown",
   "metadata": {},
   "source": [
    "## 1.2 SENet 代码结构\n",
    "<img src=\"./imgs/prj_struct1.png\"  width=\"300\" height=\"400\" align=\"left\" />"
   ]
  },
  {
   "cell_type": "markdown",
   "metadata": {},
   "source": [
    "# 2 准备工作\n",
    "## 2.1项目环境配置\n",
    " \n",
    "* Python 3.x\n",
    "* jupyter notebook\n",
    "* torch           >1.0\n",
    "* torchsummary    1.5.1\n",
    "* torchvision     0.4.0+cu92\n",
    "* Pillow          6.1.0\n",
    "* numpy           1.17.0\n",
    "* opencv-python   4.1.2.30\n",
    "* imageio 2.6.1\n"
   ]
  },
  {
   "cell_type": "markdown",
   "metadata": {},
   "source": [
    "## 2.2 数据集下载\n",
    "　　Cifar-10 在http://www.cs.toronto.edu/~kriz/cifar.html  上下载\n",
    " \n",
    "### 数据简介\n",
    "The CIFAR-10 dataset consists of 60000 32x32 colour images in 10 classes, with 6000 images per class. There are 50000 training images and 10000 test images.\n",
    "    \n",
    "### 真实样本\n",
    "   \n",
    "<img src=\"./imgs/dataset.png\"  width=\"500\" height=\"500\" align=\"bottom\" /> \n",
    "\n",
    "### 数据存放\n",
    "<img src=\"./imgs/data.png\"  width=\"300\" height=\"700\" align=\"bottom\" /> \n"
   ]
  },
  {
   "cell_type": "markdown",
   "metadata": {},
   "source": [
    "  \n",
    "## 2.3 预训练权重下载\n",
    "    'SE-ResNet-50 ': https://github.com/moskomule/senet.pytorch/releases/download/archive/seresnet50-60a8950a85b2b.pkl',\n",
    "    'SE-ResNet-50’百度网盘下载方式，链接：https://pan.baidu.com/s/1N6VVBnpj8ljrDgYq6FyKoA 提取码：nby6\n",
    "\n",
    "    SE-ResNet-20 以及 ResNet-20 训练结果:链接：https://pan.baidu.com/s/1LerwVjqF4xPCiTsoWvhUOw   提取码：isgw\n",
    "    \n",
    "预训练权重放到: F:\\cv_paper\\lesson\\J_SENet\\data"
   ]
  },
  {
   "cell_type": "markdown",
   "metadata": {},
   "source": [
    "# 3 项目代码结构（pycharm中演示）\n",
    "\n",
    "## 3.1 se_resnet50_inference.py\n",
    "    \n",
    "    采用在Imagenet上预训练的SE-ResNet-50 模型进行分类测试 （跳转pycharm，观察效果）\n",
    "\n",
    "\n",
    "## 3.2 train_senet.py\n",
    "   \n",
    "    构建一个 SE-ResNet-20，在cifar-10上将SE module嵌入之前训练过的ResNet-20，对比ResNet-20和SE-ResNet-20（跳转pycharm，观察效果）\n",
    "    ResNet-20， acc = 92.84%\n",
    "    SE-ResNet-20，acc = 93.20%\n",
    "    提升，0.36个百分点"
   ]
  },
  {
   "cell_type": "markdown",
   "metadata": {},
   "source": [
    "# 4 算法模块及细节\n",
    "\n",
    "### 4.1  se_resnet50_inference.py中各函数模块详解（跳转 1_inference.ipynb 结合 2_resnext_arch.ipynb讲解ResNet网络结构定义）\n",
    " \n",
    "### 4.2 train_senet.py中各函数模块详解（跳转3_common_tools.ipynb 结合 4_results_analysis.ipynb讲解各函数）\n"
   ]
  },
  {
   "cell_type": "markdown",
   "metadata": {},
   "source": [
    "# 5 Pycharm整体演示\n",
    "\n",
    "　　回到pycharm环境中回顾一下项目工程"
   ]
  },
  {
   "cell_type": "markdown",
   "metadata": {},
   "source": [
    "# 6 作业\n",
    "\n",
    "    1：文字回答：用自己的语言描述注意力机制的方式（最好有图）？\n",
    "    2：文字回答：Excitation中的Reduction ratio是什么意思？有什么作用？\n",
    "    3：文字回答：SE-Module嵌入ResNet中有几个方式？ \n",
    "    4：文字回答：读完该论文，对你的启发点有哪些？\n",
    "    5：代码实现(选做题)：在cifar-10上训练一个SE-ResNet-20 和 ResNet-20，将训练曲线，混淆矩阵图等信息贴出来分享\n"
   ]
  },
  {
   "cell_type": "code",
   "execution_count": null,
   "metadata": {},
   "outputs": [],
   "source": []
  }
 ],
 "metadata": {
  "colab": {
   "authorship_tag": "ABX9TyMaJPtlMHur6DonwEyZLw5h",
   "collapsed_sections": [],
   "name": "data process and load.ipynb",
   "provenance": []
  },
  "kernelspec": {
   "display_name": "VGG",
   "language": "python",
   "name": "vgg"
  },
  "language_info": {
   "codemirror_mode": {
    "name": "ipython",
    "version": 3
   },
   "file_extension": ".py",
   "mimetype": "text/x-python",
   "name": "python",
   "nbconvert_exporter": "python",
   "pygments_lexer": "ipython3",
   "version": "3.7.12"
  }
 },
 "nbformat": 4,
 "nbformat_minor": 1
}
