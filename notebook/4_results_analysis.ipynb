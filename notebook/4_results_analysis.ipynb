{
 "cells": [
  {
   "cell_type": "markdown",
   "metadata": {
    "scrolled": true
   },
   "source": [
    "# 对比实验\n"
   ]
  },
  {
   "cell_type": "markdown",
   "metadata": {},
   "source": [
    "对比ResNet-20 与 嵌入 SE module的 SE-ResNet-20\n",
    "\n",
    "\n",
    "<font size=5>\n",
    "    \n",
    "|     | Accuracy |\n",
    "|:   ----  : | : ---- :  | \n",
    "| ResNet-20| 92.84%  |\n",
    "| SE-ResNet-20   | 93.20% |\n",
    "    \n",
    "</font>\n",
    "\n",
    "只需要在\n",
    "78行，79行处，切换模型\n",
    "<img src=\"imgs/code.png\" width=\"700\" heith=\"700\" />\n"
   ]
  },
  {
   "cell_type": "markdown",
   "metadata": {},
   "source": [
    "注意，此处超参并未按照第六篇论文中训练ResNet-20时所设置的那样，而是按照ResNeXt的超参进行训练，因此此处训练了两个模型进行对比，且控制所有变量一致，仅模型不同\n",
    "<img src=\"imgs/resnet20-results.png\" width=\"700\" heith=\"700\" />\n",
    "\n",
    "主要不同\n",
    "\n",
    "|     | Batchsize | Max Epoch | Acc|\n",
    "|:   ----  : | : ---- :  |  : ---- :  |  : ---- :  | \n",
    "| 第六课中代码超参|128  | 182 | 91.79%|\n",
    "| 第十课中代码超参  | 64| 300 | 92.84%|\n",
    "    "
   ]
  },
  {
   "cell_type": "code",
   "execution_count": null,
   "metadata": {},
   "outputs": [],
   "source": []
  }
 ],
 "metadata": {
  "kernelspec": {
   "display_name": "pytorch_14",
   "language": "python",
   "name": "pytorch_14"
  },
  "language_info": {
   "codemirror_mode": {
    "name": "ipython",
    "version": 3
   },
   "file_extension": ".py",
   "mimetype": "text/x-python",
   "name": "python",
   "nbconvert_exporter": "python",
   "pygments_lexer": "ipython3",
   "version": "3.6.10"
  }
 },
 "nbformat": 4,
 "nbformat_minor": 4
}
